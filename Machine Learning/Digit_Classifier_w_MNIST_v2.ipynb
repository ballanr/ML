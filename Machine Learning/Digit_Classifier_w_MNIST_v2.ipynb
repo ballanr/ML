{
  "nbformat": 4,
  "nbformat_minor": 0,
  "metadata": {
    "colab": {
      "name": "Digit Classifier w_MNIST.ipynb",
      "version": "0.3.2",
      "provenance": []
    },
    "language_info": {
      "codemirror_mode": {
        "name": "ipython",
        "version": 3
      },
      "file_extension": ".py",
      "mimetype": "text/x-python",
      "name": "python",
      "nbconvert_exporter": "python",
      "pygments_lexer": "ipython3",
      "version": "3.7.2"
    },
    "kernelspec": {
      "display_name": "Python 3",
      "language": "python",
      "name": "python3"
    }
  },
  "cells": [
    {
      "cell_type": "markdown",
      "metadata": {
        "id": "x3gn5C3u1IVj",
        "colab_type": "text"
      },
      "source": [
        "# Digit Classifier w/ MNIST"
      ]
    },
    {
      "cell_type": "markdown",
      "metadata": {
        "id": "JvYvySYM1IVo",
        "colab_type": "text"
      },
      "source": [
        "This is my first time working with image classification so I am following along with Yassine Ghouzam's excellent CNN introduction kernel (https://www.kaggle.com/yassineghouzam). I made some modifications here and there mostly as clarification for myself and for future reference."
      ]
    },
    {
      "cell_type": "markdown",
      "metadata": {
        "id": "L4-rxaFg1IVs",
        "colab_type": "text"
      },
      "source": [
        "### Table of Contents\n",
        "1. Loading in data\n",
        "2. Data Preparation\n",
        "3. Modeling\n",
        "4. Evaluation\n",
        "5. Output"
      ]
    },
    {
      "cell_type": "markdown",
      "metadata": {
        "id": "9CCOOm5n1IVv",
        "colab_type": "text"
      },
      "source": [
        "## 1. Loading in data"
      ]
    },
    {
      "cell_type": "markdown",
      "metadata": {
        "id": "5kOgGZXv1IVz",
        "colab_type": "text"
      },
      "source": [
        "### 1.1 Load data"
      ]
    },
    {
      "cell_type": "markdown",
      "metadata": {
        "id": "TuCV1Ae91IV2",
        "colab_type": "text"
      },
      "source": [
        "***\n",
        "As usual the first thing we need to do is load in the various packages we are going to be using.\n",
        "***"
      ]
    },
    {
      "cell_type": "code",
      "metadata": {
        "_cell_guid": "b1076dfc-b9ad-4769-8c92-a6c4dae69d19",
        "_uuid": "8f2839f25d086af736a60e9eeb907d3b93b6e0e5",
        "id": "kQGsUZMe1IV4",
        "colab_type": "code",
        "colab": {
          "base_uri": "https://localhost:8080/",
          "height": 34
        },
        "outputId": "6bae8d28-0925-4819-f56d-e4455de1819b"
      },
      "source": [
        "import pandas as pd\n",
        "import numpy as np\n",
        "import matplotlib.pyplot as plt\n",
        "import matplotlib.image as mpimg\n",
        "import seaborn as sns\n",
        "import random\n",
        "%matplotlib inline\n",
        "\n",
        "from sklearn.model_selection import train_test_split\n",
        "from sklearn.metrics import confusion_matrix\n",
        "import itertools\n",
        "\n",
        "from keras.utils.np_utils import to_categorical \n",
        "from keras.models import Sequential\n",
        "from keras.layers import Dense, Dropout, Flatten, Conv2D, MaxPool2D\n",
        "from keras.optimizers import RMSprop\n",
        "from keras.preprocessing.image import ImageDataGenerator\n",
        "from keras.callbacks import ReduceLROnPlateau"
      ],
      "execution_count": 1,
      "outputs": [
        {
          "output_type": "stream",
          "text": [
            "Using TensorFlow backend.\n"
          ],
          "name": "stderr"
        }
      ]
    },
    {
      "cell_type": "markdown",
      "metadata": {
        "id": "R36LzDGy1IWE",
        "colab_type": "text"
      },
      "source": [
        "***\n",
        "Now that we have the packages we are going to use, we need to load in the data set. Our data has already been added to this notebook under the `../input/` folder so we don't need to go find it. \n",
        "***"
      ]
    },
    {
      "cell_type": "code",
      "metadata": {
        "_cell_guid": "79c7e3d0-c299-4dcb-8224-4455121ee9b0",
        "_uuid": "d629ff2d2480ee46fbb7e2d37f6b5fab8052498a",
        "id": "AT2O4pxo1IWF",
        "colab_type": "code",
        "colab": {
          "base_uri": "https://localhost:8080/",
          "height": 129
        },
        "outputId": "5f3f43bb-fb35-45ad-d1ba-04141f176138"
      },
      "source": [
        "# Pathing\n",
        "# train = pd.read_csv('datasets/MNIST/train.csv')\n",
        "# test = pd.read_csv('datasets/MNIST/test.csv')\n",
        "from google.colab import drive \n",
        "drive.mount('/content/gdrive')\n",
        "train = pd.read_csv('gdrive/My Drive/train.csv')\n",
        "test = pd.read_csv('gdrive/My Drive/test.csv')"
      ],
      "execution_count": 2,
      "outputs": [
        {
          "output_type": "stream",
          "text": [
            "Go to this URL in a browser: https://accounts.google.com/o/oauth2/auth?client_id=947318989803-6bn6qk8qdgf4n4g3pfee6491hc0brc4i.apps.googleusercontent.com&redirect_uri=urn%3Aietf%3Awg%3Aoauth%3A2.0%3Aoob&scope=email%20https%3A%2F%2Fwww.googleapis.com%2Fauth%2Fdocs.test%20https%3A%2F%2Fwww.googleapis.com%2Fauth%2Fdrive%20https%3A%2F%2Fwww.googleapis.com%2Fauth%2Fdrive.photos.readonly%20https%3A%2F%2Fwww.googleapis.com%2Fauth%2Fpeopleapi.readonly&response_type=code\n",
            "\n",
            "Enter your authorization code:\n",
            "··········\n",
            "Mounted at /content/gdrive\n"
          ],
          "name": "stdout"
        }
      ]
    },
    {
      "cell_type": "markdown",
      "metadata": {
        "id": "dF4yU-_-1IWL",
        "colab_type": "text"
      },
      "source": [
        "### 1.2 Preliminary Exploration"
      ]
    },
    {
      "cell_type": "markdown",
      "metadata": {
        "id": "_hWKKUIw1IWM",
        "colab_type": "text"
      },
      "source": [
        "***\n",
        "Once we have loaded our data we want to do some preliminary exploration to get a sense of what we are dealing with. A good place to start is with `describe()` and `columns` as they tells us a lot about the data.\n",
        "***"
      ]
    },
    {
      "cell_type": "code",
      "metadata": {
        "id": "yRSYtBiL1IWO",
        "colab_type": "code",
        "colab": {
          "base_uri": "https://localhost:8080/",
          "height": 351
        },
        "outputId": "1348077d-1516-48b4-ebf7-a7779104e8da"
      },
      "source": [
        "train.describe()"
      ],
      "execution_count": 3,
      "outputs": [
        {
          "output_type": "execute_result",
          "data": {
            "text/html": [
              "<div>\n",
              "<style scoped>\n",
              "    .dataframe tbody tr th:only-of-type {\n",
              "        vertical-align: middle;\n",
              "    }\n",
              "\n",
              "    .dataframe tbody tr th {\n",
              "        vertical-align: top;\n",
              "    }\n",
              "\n",
              "    .dataframe thead th {\n",
              "        text-align: right;\n",
              "    }\n",
              "</style>\n",
              "<table border=\"1\" class=\"dataframe\">\n",
              "  <thead>\n",
              "    <tr style=\"text-align: right;\">\n",
              "      <th></th>\n",
              "      <th>label</th>\n",
              "      <th>pixel0</th>\n",
              "      <th>pixel1</th>\n",
              "      <th>pixel2</th>\n",
              "      <th>pixel3</th>\n",
              "      <th>pixel4</th>\n",
              "      <th>pixel5</th>\n",
              "      <th>pixel6</th>\n",
              "      <th>pixel7</th>\n",
              "      <th>pixel8</th>\n",
              "      <th>...</th>\n",
              "      <th>pixel774</th>\n",
              "      <th>pixel775</th>\n",
              "      <th>pixel776</th>\n",
              "      <th>pixel777</th>\n",
              "      <th>pixel778</th>\n",
              "      <th>pixel779</th>\n",
              "      <th>pixel780</th>\n",
              "      <th>pixel781</th>\n",
              "      <th>pixel782</th>\n",
              "      <th>pixel783</th>\n",
              "    </tr>\n",
              "  </thead>\n",
              "  <tbody>\n",
              "    <tr>\n",
              "      <th>count</th>\n",
              "      <td>42000.000000</td>\n",
              "      <td>42000.0</td>\n",
              "      <td>42000.0</td>\n",
              "      <td>42000.0</td>\n",
              "      <td>42000.0</td>\n",
              "      <td>42000.0</td>\n",
              "      <td>42000.0</td>\n",
              "      <td>42000.0</td>\n",
              "      <td>42000.0</td>\n",
              "      <td>42000.0</td>\n",
              "      <td>...</td>\n",
              "      <td>42000.000000</td>\n",
              "      <td>42000.000000</td>\n",
              "      <td>42000.000000</td>\n",
              "      <td>42000.00000</td>\n",
              "      <td>42000.000000</td>\n",
              "      <td>42000.000000</td>\n",
              "      <td>42000.0</td>\n",
              "      <td>42000.0</td>\n",
              "      <td>42000.0</td>\n",
              "      <td>42000.0</td>\n",
              "    </tr>\n",
              "    <tr>\n",
              "      <th>mean</th>\n",
              "      <td>4.456643</td>\n",
              "      <td>0.0</td>\n",
              "      <td>0.0</td>\n",
              "      <td>0.0</td>\n",
              "      <td>0.0</td>\n",
              "      <td>0.0</td>\n",
              "      <td>0.0</td>\n",
              "      <td>0.0</td>\n",
              "      <td>0.0</td>\n",
              "      <td>0.0</td>\n",
              "      <td>...</td>\n",
              "      <td>0.219286</td>\n",
              "      <td>0.117095</td>\n",
              "      <td>0.059024</td>\n",
              "      <td>0.02019</td>\n",
              "      <td>0.017238</td>\n",
              "      <td>0.002857</td>\n",
              "      <td>0.0</td>\n",
              "      <td>0.0</td>\n",
              "      <td>0.0</td>\n",
              "      <td>0.0</td>\n",
              "    </tr>\n",
              "    <tr>\n",
              "      <th>std</th>\n",
              "      <td>2.887730</td>\n",
              "      <td>0.0</td>\n",
              "      <td>0.0</td>\n",
              "      <td>0.0</td>\n",
              "      <td>0.0</td>\n",
              "      <td>0.0</td>\n",
              "      <td>0.0</td>\n",
              "      <td>0.0</td>\n",
              "      <td>0.0</td>\n",
              "      <td>0.0</td>\n",
              "      <td>...</td>\n",
              "      <td>6.312890</td>\n",
              "      <td>4.633819</td>\n",
              "      <td>3.274488</td>\n",
              "      <td>1.75987</td>\n",
              "      <td>1.894498</td>\n",
              "      <td>0.414264</td>\n",
              "      <td>0.0</td>\n",
              "      <td>0.0</td>\n",
              "      <td>0.0</td>\n",
              "      <td>0.0</td>\n",
              "    </tr>\n",
              "    <tr>\n",
              "      <th>min</th>\n",
              "      <td>0.000000</td>\n",
              "      <td>0.0</td>\n",
              "      <td>0.0</td>\n",
              "      <td>0.0</td>\n",
              "      <td>0.0</td>\n",
              "      <td>0.0</td>\n",
              "      <td>0.0</td>\n",
              "      <td>0.0</td>\n",
              "      <td>0.0</td>\n",
              "      <td>0.0</td>\n",
              "      <td>...</td>\n",
              "      <td>0.000000</td>\n",
              "      <td>0.000000</td>\n",
              "      <td>0.000000</td>\n",
              "      <td>0.00000</td>\n",
              "      <td>0.000000</td>\n",
              "      <td>0.000000</td>\n",
              "      <td>0.0</td>\n",
              "      <td>0.0</td>\n",
              "      <td>0.0</td>\n",
              "      <td>0.0</td>\n",
              "    </tr>\n",
              "    <tr>\n",
              "      <th>25%</th>\n",
              "      <td>2.000000</td>\n",
              "      <td>0.0</td>\n",
              "      <td>0.0</td>\n",
              "      <td>0.0</td>\n",
              "      <td>0.0</td>\n",
              "      <td>0.0</td>\n",
              "      <td>0.0</td>\n",
              "      <td>0.0</td>\n",
              "      <td>0.0</td>\n",
              "      <td>0.0</td>\n",
              "      <td>...</td>\n",
              "      <td>0.000000</td>\n",
              "      <td>0.000000</td>\n",
              "      <td>0.000000</td>\n",
              "      <td>0.00000</td>\n",
              "      <td>0.000000</td>\n",
              "      <td>0.000000</td>\n",
              "      <td>0.0</td>\n",
              "      <td>0.0</td>\n",
              "      <td>0.0</td>\n",
              "      <td>0.0</td>\n",
              "    </tr>\n",
              "    <tr>\n",
              "      <th>50%</th>\n",
              "      <td>4.000000</td>\n",
              "      <td>0.0</td>\n",
              "      <td>0.0</td>\n",
              "      <td>0.0</td>\n",
              "      <td>0.0</td>\n",
              "      <td>0.0</td>\n",
              "      <td>0.0</td>\n",
              "      <td>0.0</td>\n",
              "      <td>0.0</td>\n",
              "      <td>0.0</td>\n",
              "      <td>...</td>\n",
              "      <td>0.000000</td>\n",
              "      <td>0.000000</td>\n",
              "      <td>0.000000</td>\n",
              "      <td>0.00000</td>\n",
              "      <td>0.000000</td>\n",
              "      <td>0.000000</td>\n",
              "      <td>0.0</td>\n",
              "      <td>0.0</td>\n",
              "      <td>0.0</td>\n",
              "      <td>0.0</td>\n",
              "    </tr>\n",
              "    <tr>\n",
              "      <th>75%</th>\n",
              "      <td>7.000000</td>\n",
              "      <td>0.0</td>\n",
              "      <td>0.0</td>\n",
              "      <td>0.0</td>\n",
              "      <td>0.0</td>\n",
              "      <td>0.0</td>\n",
              "      <td>0.0</td>\n",
              "      <td>0.0</td>\n",
              "      <td>0.0</td>\n",
              "      <td>0.0</td>\n",
              "      <td>...</td>\n",
              "      <td>0.000000</td>\n",
              "      <td>0.000000</td>\n",
              "      <td>0.000000</td>\n",
              "      <td>0.00000</td>\n",
              "      <td>0.000000</td>\n",
              "      <td>0.000000</td>\n",
              "      <td>0.0</td>\n",
              "      <td>0.0</td>\n",
              "      <td>0.0</td>\n",
              "      <td>0.0</td>\n",
              "    </tr>\n",
              "    <tr>\n",
              "      <th>max</th>\n",
              "      <td>9.000000</td>\n",
              "      <td>0.0</td>\n",
              "      <td>0.0</td>\n",
              "      <td>0.0</td>\n",
              "      <td>0.0</td>\n",
              "      <td>0.0</td>\n",
              "      <td>0.0</td>\n",
              "      <td>0.0</td>\n",
              "      <td>0.0</td>\n",
              "      <td>0.0</td>\n",
              "      <td>...</td>\n",
              "      <td>254.000000</td>\n",
              "      <td>254.000000</td>\n",
              "      <td>253.000000</td>\n",
              "      <td>253.00000</td>\n",
              "      <td>254.000000</td>\n",
              "      <td>62.000000</td>\n",
              "      <td>0.0</td>\n",
              "      <td>0.0</td>\n",
              "      <td>0.0</td>\n",
              "      <td>0.0</td>\n",
              "    </tr>\n",
              "  </tbody>\n",
              "</table>\n",
              "<p>8 rows × 785 columns</p>\n",
              "</div>"
            ],
            "text/plain": [
              "              label   pixel0   pixel1   pixel2   pixel3   pixel4   pixel5  \\\n",
              "count  42000.000000  42000.0  42000.0  42000.0  42000.0  42000.0  42000.0   \n",
              "mean       4.456643      0.0      0.0      0.0      0.0      0.0      0.0   \n",
              "std        2.887730      0.0      0.0      0.0      0.0      0.0      0.0   \n",
              "min        0.000000      0.0      0.0      0.0      0.0      0.0      0.0   \n",
              "25%        2.000000      0.0      0.0      0.0      0.0      0.0      0.0   \n",
              "50%        4.000000      0.0      0.0      0.0      0.0      0.0      0.0   \n",
              "75%        7.000000      0.0      0.0      0.0      0.0      0.0      0.0   \n",
              "max        9.000000      0.0      0.0      0.0      0.0      0.0      0.0   \n",
              "\n",
              "        pixel6   pixel7   pixel8  ...      pixel774      pixel775  \\\n",
              "count  42000.0  42000.0  42000.0  ...  42000.000000  42000.000000   \n",
              "mean       0.0      0.0      0.0  ...      0.219286      0.117095   \n",
              "std        0.0      0.0      0.0  ...      6.312890      4.633819   \n",
              "min        0.0      0.0      0.0  ...      0.000000      0.000000   \n",
              "25%        0.0      0.0      0.0  ...      0.000000      0.000000   \n",
              "50%        0.0      0.0      0.0  ...      0.000000      0.000000   \n",
              "75%        0.0      0.0      0.0  ...      0.000000      0.000000   \n",
              "max        0.0      0.0      0.0  ...    254.000000    254.000000   \n",
              "\n",
              "           pixel776     pixel777      pixel778      pixel779  pixel780  \\\n",
              "count  42000.000000  42000.00000  42000.000000  42000.000000   42000.0   \n",
              "mean       0.059024      0.02019      0.017238      0.002857       0.0   \n",
              "std        3.274488      1.75987      1.894498      0.414264       0.0   \n",
              "min        0.000000      0.00000      0.000000      0.000000       0.0   \n",
              "25%        0.000000      0.00000      0.000000      0.000000       0.0   \n",
              "50%        0.000000      0.00000      0.000000      0.000000       0.0   \n",
              "75%        0.000000      0.00000      0.000000      0.000000       0.0   \n",
              "max      253.000000    253.00000    254.000000     62.000000       0.0   \n",
              "\n",
              "       pixel781  pixel782  pixel783  \n",
              "count   42000.0   42000.0   42000.0  \n",
              "mean        0.0       0.0       0.0  \n",
              "std         0.0       0.0       0.0  \n",
              "min         0.0       0.0       0.0  \n",
              "25%         0.0       0.0       0.0  \n",
              "50%         0.0       0.0       0.0  \n",
              "75%         0.0       0.0       0.0  \n",
              "max         0.0       0.0       0.0  \n",
              "\n",
              "[8 rows x 785 columns]"
            ]
          },
          "metadata": {
            "tags": []
          },
          "execution_count": 3
        }
      ]
    },
    {
      "cell_type": "code",
      "metadata": {
        "id": "AKtnGSZo1IWY",
        "colab_type": "code",
        "colab": {
          "base_uri": "https://localhost:8080/",
          "height": 119
        },
        "outputId": "48ac515e-4ee4-4bbb-d4c3-20c48acdef19"
      },
      "source": [
        "train.columns"
      ],
      "execution_count": 4,
      "outputs": [
        {
          "output_type": "execute_result",
          "data": {
            "text/plain": [
              "Index(['label', 'pixel0', 'pixel1', 'pixel2', 'pixel3', 'pixel4', 'pixel5',\n",
              "       'pixel6', 'pixel7', 'pixel8',\n",
              "       ...\n",
              "       'pixel774', 'pixel775', 'pixel776', 'pixel777', 'pixel778', 'pixel779',\n",
              "       'pixel780', 'pixel781', 'pixel782', 'pixel783'],\n",
              "      dtype='object', length=785)"
            ]
          },
          "metadata": {
            "tags": []
          },
          "execution_count": 4
        }
      ]
    },
    {
      "cell_type": "markdown",
      "metadata": {
        "id": "ykiAHUsS1IWg",
        "colab_type": "text"
      },
      "source": [
        "***\n",
        "The data is organized as one row is a digit with 784 values per digit is one long array and one label value. This works out to be a 28x28 image which we will deal with in a bit. For now lets see how many of each digit there is.\n",
        "***"
      ]
    },
    {
      "cell_type": "code",
      "metadata": {
        "id": "DCeLtR0m1IWh",
        "colab_type": "code",
        "colab": {}
      },
      "source": [
        "y_train = train['label']\n",
        "x_train = train.copy(deep = True)\n",
        "x_train = x_train.drop('label',axis=1)"
      ],
      "execution_count": 0,
      "outputs": []
    },
    {
      "cell_type": "code",
      "metadata": {
        "id": "JtyhIyaS1IWk",
        "colab_type": "code",
        "colab": {
          "base_uri": "https://localhost:8080/",
          "height": 204
        },
        "outputId": "65a1a846-f95c-4b13-cf93-faa43aa3c0b9"
      },
      "source": [
        "y_train.value_counts()"
      ],
      "execution_count": 6,
      "outputs": [
        {
          "output_type": "execute_result",
          "data": {
            "text/plain": [
              "1    4684\n",
              "7    4401\n",
              "3    4351\n",
              "9    4188\n",
              "2    4177\n",
              "6    4137\n",
              "0    4132\n",
              "4    4072\n",
              "8    4063\n",
              "5    3795\n",
              "Name: label, dtype: int64"
            ]
          },
          "metadata": {
            "tags": []
          },
          "execution_count": 6
        }
      ]
    },
    {
      "cell_type": "code",
      "metadata": {
        "id": "ABnwb37W1IWp",
        "colab_type": "code",
        "colab": {
          "base_uri": "https://localhost:8080/",
          "height": 500
        },
        "outputId": "0eb37e3b-65cf-4857-e22f-2d74b66624bd"
      },
      "source": [
        "plt.figure(figsize=(1.5*8,8))\n",
        "sns.countplot(y_train);"
      ],
      "execution_count": 7,
      "outputs": [
        {
          "output_type": "display_data",
          "data": {
            "image/png": "[encoded data removed]",
            "text/plain": [
              "<Figure size 864x576 with 1 Axes>"
            ]
          },
          "metadata": {
            "tags": []
          }
        }
      ]
    },
    {
      "cell_type": "markdown",
      "metadata": {
        "id": "o8Xl52x_1IWv",
        "colab_type": "text"
      },
      "source": [
        "***\n",
        "In our training set there seems to be roughly an even distribution among all numbers. This means we don't have to take into account whether the training set and test set have different distributions and we won't overtrain because of it.\n",
        "***"
      ]
    },
    {
      "cell_type": "markdown",
      "metadata": {
        "id": "FbE08H441IWw",
        "colab_type": "text"
      },
      "source": [
        "### 2.1 Checking for missing values"
      ]
    },
    {
      "cell_type": "markdown",
      "metadata": {
        "id": "VPC1mWYy1IWx",
        "colab_type": "text"
      },
      "source": [
        "***\n",
        "The next thing we need to do is check to see if theere are any missing values as that will mess up the training process. Luckily the values for each pixel are just one or zero so if there are any null values we won't have to do much work to correct them.\n",
        "***"
      ]
    },
    {
      "cell_type": "code",
      "metadata": {
        "id": "E1dgKVFz1IWx",
        "colab_type": "code",
        "colab": {
          "base_uri": "https://localhost:8080/",
          "height": 54
        },
        "outputId": "248b0504-d889-4eb2-9123-2777f870a283"
      },
      "source": [
        "print(x_train.isnull().any().sum(),y_train.isnull().any().sum())"
      ],
      "execution_count": 8,
      "outputs": [
        {
          "output_type": "stream",
          "text": [
            "0 0\n"
          ],
          "name": "stdout"
        }
      ]
    },
    {
      "cell_type": "markdown",
      "metadata": {
        "id": "FJZ-XCVP1IW1",
        "colab_type": "text"
      },
      "source": [
        "***\n",
        "There are no missing values so we can proceed to the next step.\n",
        "***"
      ]
    },
    {
      "cell_type": "markdown",
      "metadata": {
        "id": "oRIy1BHR1IW2",
        "colab_type": "text"
      },
      "source": [
        "### 2.2 Normalize and Reshape"
      ]
    },
    {
      "cell_type": "markdown",
      "metadata": {
        "id": "lj-cBxcR1IW3",
        "colab_type": "text"
      },
      "source": [
        "***\n",
        "For the next step we need to reshape our arrays from 1D to 2D and also normalize the values (greyscale going from 0-255) to have our model converge faster between 0-1. To do this we just divide all the values by the maximum, 255.\n",
        "***"
      ]
    },
    {
      "cell_type": "code",
      "metadata": {
        "id": "aegjnHPW1IW4",
        "colab_type": "code",
        "colab": {}
      },
      "source": [
        "x_train = x_train / 255.0\n",
        "test = test / 255.0"
      ],
      "execution_count": 0,
      "outputs": []
    },
    {
      "cell_type": "markdown",
      "metadata": {
        "id": "u_nAjPfm1IW7",
        "colab_type": "text"
      },
      "source": [
        "***\n",
        "Our arrays are 784 elements long that translates into a 2D array of 28x28. To reshape them we use `reshape()` passing the arguments `(-1,28,28,1)` where the -1 tells `reshape()` to use all the columns for a row, the 28s are for the height and width, and the 1 is for the channel (think RGB) which is for greyscale/brightness.\n",
        "***"
      ]
    },
    {
      "cell_type": "code",
      "metadata": {
        "id": "U6c7-Xvn1IW8",
        "colab_type": "code",
        "colab": {}
      },
      "source": [
        "x_train = x_train.values.reshape(-1,28,28,1)\n",
        "test = test.values.reshape(-1,28,28,1)"
      ],
      "execution_count": 0,
      "outputs": []
    },
    {
      "cell_type": "markdown",
      "metadata": {
        "id": "uIBaiLcR1IW9",
        "colab_type": "text"
      },
      "source": [
        "### 2.3 One-Hot Encoding"
      ]
    },
    {
      "cell_type": "markdown",
      "metadata": {
        "id": "x-OOmwYj1IW-",
        "colab_type": "text"
      },
      "source": [
        "***\n",
        "The next step we need to do is convert our labels from 1-10 to 10 separate lables where a 1 identifies that it is a specific number and a 0 that it is not; this is called One-Hot encoding. We do this because 8 is not 8 times better than 1 so we are changing the labels from values into strings or names.\n",
        "***"
      ]
    },
    {
      "cell_type": "code",
      "metadata": {
        "id": "6pVAcgci1IW_",
        "colab_type": "code",
        "colab": {}
      },
      "source": [
        "y_train = to_categorical(y_train,num_classes=10)"
      ],
      "execution_count": 0,
      "outputs": []
    },
    {
      "cell_type": "markdown",
      "metadata": {
        "id": "9thu2DWW1IXB",
        "colab_type": "text"
      },
      "source": [
        "### 2.4 Creating training and test sets"
      ]
    },
    {
      "cell_type": "markdown",
      "metadata": {
        "id": "Z5gXqrGO1IXC",
        "colab_type": "text"
      },
      "source": [
        "***\n",
        "The last thing we need to do before beginning the modeling process is to split up our training set further into another training and validation set (not a test set, that is the final step!) using `scikit-learn`'s `train_test_split()`. To prevent overfitting a general guideline for how much of your training set should be set aside for the validation set is about 20%.\n",
        "***"
      ]
    },
    {
      "cell_type": "code",
      "metadata": {
        "id": "MG7pl04n1IXD",
        "colab_type": "code",
        "colab": {}
      },
      "source": [
        "X_train, X_valid, Y_train, Y_valid = train_test_split(x_train, y_train, \n",
        "                                                      test_size = 0.2,random_state=42)"
      ],
      "execution_count": 0,
      "outputs": []
    },
    {
      "cell_type": "markdown",
      "metadata": {
        "id": "327EKVWT1IXG",
        "colab_type": "text"
      },
      "source": [
        "***\n",
        "Before we move on to modeling let's take a look at the data now that we have reshaped it and normalized it.\n",
        "***"
      ]
    },
    {
      "cell_type": "code",
      "metadata": {
        "id": "OIAaUkM61IXG",
        "colab_type": "code",
        "colab": {
          "base_uri": "https://localhost:8080/",
          "height": 440
        },
        "outputId": "91aadc5f-8a7d-403a-97dc-ab8913e68afa"
      },
      "source": [
        "# Gridspec_kw is the dict that you can pass the keys wspace,hspace = 0 to so that \n",
        "# it removes the whitespace between subplots. The aspect ratio is still set to \n",
        "# 'equal' however, so depending on the dimensions of the data you are plotting \n",
        "# you may need to change the figsize to remove horizontal whitespace.\n",
        "fig, ax = plt.subplots(2, 4,figsize=(13,7),gridspec_kw = {'wspace':0, 'hspace':0})\n",
        "\n",
        "for i in range(2):\n",
        "    for j in range(4):\n",
        "        ax[i,j].imshow(X_train[random.randint(0,100)][:,:,0],cmap='Greys') #row=0, col=0\n",
        "        ax[i,j].axis('off')\n",
        "\n",
        "plt.show()"
      ],
      "execution_count": 13,
      "outputs": [
        {
          "output_type": "display_data",
          "data": {
            "image/png": "[encoded data removed]",
            "text/plain": [
              "<Figure size 936x504 with 8 Axes>"
            ]
          },
          "metadata": {
            "tags": []
          }
        }
      ]
    },
    {
      "cell_type": "markdown",
      "metadata": {
        "id": "9k_bCeP11IXJ",
        "colab_type": "text"
      },
      "source": [
        "## 3. Modeling"
      ]
    },
    {
      "cell_type": "markdown",
      "metadata": {
        "id": "HiVK6iNa1IXK",
        "colab_type": "text"
      },
      "source": [
        "### 3.1 Initializing the model"
      ]
    },
    {
      "cell_type": "markdown",
      "metadata": {
        "id": "vLkw90Sl1IXL",
        "colab_type": "text"
      },
      "source": [
        "***\n",
        "Now that are data is ready to go we can begin building our model. The model we will be using for this project is a Convolutional Neural Network (CNN) which are neural nets designed to mimick how the neural cortex works in animals. CNNs are commonly applied to visual learning tasks and are less prone to overfitting problems than their more complex cousin the Perceptron."
      ]
    },
    {
      "cell_type": "markdown",
      "metadata": {
        "id": "YLNKamWg1IXM",
        "colab_type": "text"
      },
      "source": [
        "The CNN we are going to be using is a little complex upfront so it would be good to define some of the tools we will use.\n",
        "* `Sequential()` is a Keras function that sets up the pipeline for the model by sequentially adding layers as we go.\n",
        "* `Conv2D()` is a 2D filter layer with inputs being how many filters you want and the size of each filter.\n",
        "* `MaxPool2D()` is a downsampling filter that looks at the neighboring two pixels and picks the highest value. The argument we pass it (2,2) tells it to reduce both the x and y dimensions by half. We use the *relu* rectifier activation function to add non-linearity to the process. The *relu* takes only the positive part of an input using the function $f(x) = x^+ = max(0,x)$.\n",
        "* `Dropout()` reduces overfitting by randomly dropping nodes for each training sample and forces the learning of features to be distributed.\n",
        "* `Flatten()` takes the features generated by the rest of the model and flattens them into a 1D array.\n",
        "* `Dense()` an Artificial Neural Network Layer (ANN) that is fully connected with the input value being how many filters we are inputing into the dense layer (64\\*4 then 10) and outputs then same dimension. \n",
        "***"
      ]
    },
    {
      "cell_type": "code",
      "metadata": {
        "id": "K2uEglhT1IXN",
        "colab_type": "code",
        "colab": {
          "base_uri": "https://localhost:8080/",
          "height": 144
        },
        "outputId": "35232090-7ab3-4575-fd1d-708633557334"
      },
      "source": [
        "# Set up the sequential CNN model \n",
        "model = Sequential()\n",
        "\n",
        "# Add 2 convolutional layers\n",
        "model.add(Conv2D(filters = 32, kernel_size = (5,5),padding = 'Same', \n",
        "                 activation ='relu', input_shape = (28,28,1)))\n",
        "model.add(Conv2D(filters = 32, kernel_size = (5,5),padding = 'Same', \n",
        "                 activation ='relu'))\n",
        "\n",
        "# Add a max pooling layer\n",
        "model.add(MaxPool2D(pool_size=(2,2)))\n",
        "\n",
        "# Add dropout layer\n",
        "model.add(Dropout(0.25))\n",
        "\n",
        "# Add two more convolutional layers\n",
        "model.add(Conv2D(filters = 64, kernel_size = (3,3),padding = 'Same', \n",
        "                 activation ='relu'))\n",
        "model.add(Conv2D(filters = 64, kernel_size = (3,3),padding = 'Same', \n",
        "                 activation ='relu'))\n",
        "\n",
        "# Add a final max pooling layer\n",
        "model.add(MaxPool2D(pool_size=(2,2), strides=(2,2)))\n",
        "\n",
        "# Add another dropout layer\n",
        "model.add(Dropout(0.25))\n",
        "\n",
        "# Flatten the model\n",
        "model.add(Flatten())\n",
        "\n",
        "# Add a dense layer\n",
        "model.add(Dense(256, activation = \"relu\"))\n",
        "\n",
        "# Add final dropout layer\n",
        "model.add(Dropout(0.5))\n",
        "\n",
        "# Add final dense layer\n",
        "model.add(Dense(10, activation = \"softmax\"))"
      ],
      "execution_count": 14,
      "outputs": [
        {
          "output_type": "stream",
          "text": [
            "WARNING:tensorflow:From /usr/local/lib/python3.6/dist-packages/tensorflow/python/framework/op_def_library.py:263: colocate_with (from tensorflow.python.framework.ops) is deprecated and will be removed in a future version.\n",
            "Instructions for updating:\n",
            "Colocations handled automatically by placer.\n",
            "WARNING:tensorflow:From /usr/local/lib/python3.6/dist-packages/keras/backend/tensorflow_backend.py:3445: calling dropout (from tensorflow.python.ops.nn_ops) with keep_prob is deprecated and will be removed in a future version.\n",
            "Instructions for updating:\n",
            "Please use `rate` instead of `keep_prob`. Rate should be set to `rate = 1 - keep_prob`.\n"
          ],
          "name": "stdout"
        }
      ]
    },
    {
      "cell_type": "markdown",
      "metadata": {
        "id": "3KJEtaV31IXR",
        "colab_type": "text"
      },
      "source": [
        "***\n",
        "Now that we have our model set up there are a couple other things we need to set up. \n",
        "***"
      ]
    },
    {
      "cell_type": "markdown",
      "metadata": {
        "id": "90y8I5oi1IXS",
        "colab_type": "text"
      },
      "source": [
        "### 3.2 Optimization"
      ]
    },
    {
      "cell_type": "markdown",
      "metadata": {
        "id": "SXV21B3c1IXT",
        "colab_type": "text"
      },
      "source": [
        "***\n",
        "The next thing we need to do is set up our loss function (determines how far off the predictions are from the actual distance, we will use `categorical_crossentropy`) and a learning rate annealer. The annealer just optimizes the parameters of our model iteratively in order to minimize our loss. Here we are using RMSprop instead of a Stochastic Gradient Descent (SGD) optimizer as it is faster. \n",
        "***"
      ]
    },
    {
      "cell_type": "code",
      "metadata": {
        "id": "x4rc4nCC1IXT",
        "colab_type": "code",
        "colab": {}
      },
      "source": [
        "# Define the optimizer\n",
        "optimizer = RMSprop(lr=0.001, rho=0.9, epsilon=1e-08, decay=0.0)\n",
        "\n",
        "# Compile the model\n",
        "model.compile(optimizer = optimizer , loss = \"categorical_crossentropy\", metrics=[\"accuracy\"])\n",
        "\n",
        "# Set a learning rate annealer\n",
        "learning_rate_reduction = ReduceLROnPlateau(monitor='val_acc', \n",
        "                                            patience=3, \n",
        "                                            verbose=1, \n",
        "                                            factor=0.5, \n",
        "                                            min_lr=0.00001)\n",
        "\n",
        "epochs = 30 # Turn epochs to 30 to get 0.9967 accuracy\n",
        "batch_size = 86"
      ],
      "execution_count": 0,
      "outputs": []
    },
    {
      "cell_type": "markdown",
      "metadata": {
        "id": "iNOKc6VK1IXW",
        "colab_type": "text"
      },
      "source": [
        "### 3.3 Increasing the dataset"
      ]
    },
    {
      "cell_type": "markdown",
      "metadata": {
        "id": "OvzSK3Db1IXW",
        "colab_type": "text"
      },
      "source": [
        "***\n",
        "Something we can do with a dataset of images is make more images to train on by shifting, rotating, and zooming in just slightly. Applying these randomly essentially doubles the training dataset which will help with overfitting. To do this we will use Keras' `ImageDataGenerator` function applying the following random transformations:\n",
        "* 10 degree rotations\n",
        "* 10% zoom\n",
        "* Shift horizontally by 15% of the width\n",
        "* Shift vertically by 15% of the height\n",
        "\n",
        "We won't do any vertical/horizontal flipping because some digits are close reflections of others, think 6 and 9. Flipping would be more appropriate for images like houses or buildings.\n",
        "***"
      ]
    },
    {
      "cell_type": "code",
      "metadata": {
        "id": "0ManzusH1IXX",
        "colab_type": "code",
        "colab": {}
      },
      "source": [
        "datagen = ImageDataGenerator(\n",
        "        featurewise_center=False,  # set input mean to 0 over the dataset\n",
        "        samplewise_center=False,  # set each sample mean to 0\n",
        "        featurewise_std_normalization=False,  # divide inputs by std of the dataset\n",
        "        samplewise_std_normalization=False,  # divide each input by its std\n",
        "        zca_whitening=False,  # apply ZCA whitening\n",
        "        rotation_range=10, # 0 to 10 degrees, any more and the model gets less accurate \n",
        "        zoom_range = 0.1,  # Higher will clip the image sometimes\n",
        "        width_shift_range=0.125, # Higher will clip the image sometimes \n",
        "        height_shift_range=0.125, # Higher will clip the image sometimes \n",
        "        horizontal_flip=False,\n",
        "        vertical_flip=False)\n",
        "\n",
        "\n",
        "datagen.fit(X_train)"
      ],
      "execution_count": 0,
      "outputs": []
    },
    {
      "cell_type": "markdown",
      "metadata": {
        "id": "JEbXzXC41IXZ",
        "colab_type": "text"
      },
      "source": [
        "***\n",
        "Now that we have everything ready to go we can fit the model.\n",
        "***"
      ]
    },
    {
      "cell_type": "code",
      "metadata": {
        "id": "s_XSdw7H1IXa",
        "colab_type": "code",
        "colab": {
          "base_uri": "https://localhost:8080/",
          "height": 1312
        },
        "outputId": "171f473f-a75e-4f2c-bda4-bcad7762468d"
      },
      "source": [
        "# Fit the model\n",
        "history = model.fit_generator(datagen.flow(X_train,Y_train, batch_size=batch_size),\n",
        "                              epochs = epochs, validation_data = (X_valid,Y_valid),\n",
        "                              verbose = 2, steps_per_epoch=X_train.shape[0] // batch_size\n",
        "                              , callbacks=[learning_rate_reduction])"
      ],
      "execution_count": 17,
      "outputs": [
        {
          "output_type": "stream",
          "text": [
            "WARNING:tensorflow:From /usr/local/lib/python3.6/dist-packages/tensorflow/python/ops/math_ops.py:3066: to_int32 (from tensorflow.python.ops.math_ops) is deprecated and will be removed in a future version.\n",
            "Instructions for updating:\n",
            "Use tf.cast instead.\n",
            "Epoch 1/30\n",
            " - 253s - loss: 0.4932 - acc: 0.8385 - val_loss: 0.0636 - val_acc: 0.9800\n",
            "Epoch 2/30\n",
            " - 260s - loss: 0.1553 - acc: 0.9537 - val_loss: 0.0451 - val_acc: 0.9867\n",
            "Epoch 3/30\n",
            " - 252s - loss: 0.1152 - acc: 0.9652 - val_loss: 0.0374 - val_acc: 0.9877\n",
            "Epoch 4/30\n",
            " - 253s - loss: 0.0937 - acc: 0.9731 - val_loss: 0.0331 - val_acc: 0.9900\n",
            "Epoch 5/30\n",
            " - 256s - loss: 0.0835 - acc: 0.9743 - val_loss: 0.0405 - val_acc: 0.9879\n",
            "Epoch 6/30\n",
            " - 252s - loss: 0.0762 - acc: 0.9773 - val_loss: 0.0334 - val_acc: 0.9912\n",
            "Epoch 7/30\n",
            " - 261s - loss: 0.0746 - acc: 0.9779 - val_loss: 0.0243 - val_acc: 0.9913\n",
            "Epoch 8/30\n",
            " - 260s - loss: 0.0694 - acc: 0.9801 - val_loss: 0.0336 - val_acc: 0.9898\n",
            "Epoch 9/30\n",
            " - 262s - loss: 0.0674 - acc: 0.9804 - val_loss: 0.0301 - val_acc: 0.9896\n",
            "Epoch 10/30\n",
            " - 259s - loss: 0.0653 - acc: 0.9808 - val_loss: 0.0283 - val_acc: 0.9923\n",
            "Epoch 11/30\n",
            " - 252s - loss: 0.0663 - acc: 0.9813 - val_loss: 0.0324 - val_acc: 0.9915\n",
            "Epoch 12/30\n",
            " - 252s - loss: 0.0625 - acc: 0.9826 - val_loss: 0.0292 - val_acc: 0.9920\n",
            "Epoch 13/30\n",
            " - 252s - loss: 0.0673 - acc: 0.9825 - val_loss: 0.0297 - val_acc: 0.9914\n",
            "\n",
            "Epoch 00013: ReduceLROnPlateau reducing learning rate to 0.0005000000237487257.\n",
            "Epoch 14/30\n",
            " - 252s - loss: 0.0496 - acc: 0.9862 - val_loss: 0.0231 - val_acc: 0.9927\n",
            "Epoch 15/30\n",
            " - 253s - loss: 0.0519 - acc: 0.9859 - val_loss: 0.0219 - val_acc: 0.9948\n",
            "Epoch 16/30\n",
            " - 253s - loss: 0.0490 - acc: 0.9865 - val_loss: 0.0220 - val_acc: 0.9935\n",
            "Epoch 17/30\n",
            " - 253s - loss: 0.0482 - acc: 0.9869 - val_loss: 0.0304 - val_acc: 0.9924\n",
            "Epoch 18/30\n",
            " - 253s - loss: 0.0515 - acc: 0.9865 - val_loss: 0.0224 - val_acc: 0.9932\n",
            "\n",
            "Epoch 00018: ReduceLROnPlateau reducing learning rate to 0.0002500000118743628.\n",
            "Epoch 19/30\n",
            " - 252s - loss: 0.0443 - acc: 0.9869 - val_loss: 0.0247 - val_acc: 0.9929\n",
            "Epoch 20/30\n",
            " - 251s - loss: 0.0412 - acc: 0.9893 - val_loss: 0.0235 - val_acc: 0.9938\n",
            "Epoch 21/30\n",
            " - 251s - loss: 0.0429 - acc: 0.9882 - val_loss: 0.0216 - val_acc: 0.9946\n",
            "\n",
            "Epoch 00021: ReduceLROnPlateau reducing learning rate to 0.0001250000059371814.\n",
            "Epoch 22/30\n",
            " - 252s - loss: 0.0375 - acc: 0.9894 - val_loss: 0.0194 - val_acc: 0.9946\n",
            "Epoch 23/30\n",
            " - 253s - loss: 0.0359 - acc: 0.9901 - val_loss: 0.0199 - val_acc: 0.9944\n",
            "Epoch 24/30\n",
            " - 253s - loss: 0.0361 - acc: 0.9900 - val_loss: 0.0192 - val_acc: 0.9948\n",
            "\n",
            "Epoch 00024: ReduceLROnPlateau reducing learning rate to 6.25000029685907e-05.\n",
            "Epoch 25/30\n",
            " - 253s - loss: 0.0337 - acc: 0.9908 - val_loss: 0.0190 - val_acc: 0.9942\n",
            "Epoch 26/30\n",
            " - 253s - loss: 0.0342 - acc: 0.9908 - val_loss: 0.0203 - val_acc: 0.9940\n",
            "Epoch 27/30\n",
            " - 252s - loss: 0.0360 - acc: 0.9905 - val_loss: 0.0191 - val_acc: 0.9945\n",
            "\n",
            "Epoch 00027: ReduceLROnPlateau reducing learning rate to 3.125000148429535e-05.\n",
            "Epoch 28/30\n",
            " - 252s - loss: 0.0329 - acc: 0.9909 - val_loss: 0.0200 - val_acc: 0.9945\n",
            "Epoch 29/30\n",
            " - 252s - loss: 0.0338 - acc: 0.9908 - val_loss: 0.0192 - val_acc: 0.9944\n",
            "Epoch 30/30\n",
            " - 253s - loss: 0.0340 - acc: 0.9911 - val_loss: 0.0194 - val_acc: 0.9943\n",
            "\n",
            "Epoch 00030: ReduceLROnPlateau reducing learning rate to 1.5625000742147677e-05.\n"
          ],
          "name": "stdout"
        }
      ]
    },
    {
      "cell_type": "markdown",
      "metadata": {
        "id": "QgfooSn81IXe",
        "colab_type": "text"
      },
      "source": [
        "## 4. Evaluation"
      ]
    },
    {
      "cell_type": "markdown",
      "metadata": {
        "id": "pAu6DxrD1IXf",
        "colab_type": "text"
      },
      "source": [
        "### 4.1 Training and Evaluation Curves"
      ]
    },
    {
      "cell_type": "markdown",
      "metadata": {
        "id": "3LLNvJSU1IXg",
        "colab_type": "text"
      },
      "source": [
        "***\n",
        "Now that we have fit our model we can plot loss and accuracy for both the training set and the validation set.\n",
        "***"
      ]
    },
    {
      "cell_type": "code",
      "metadata": {
        "id": "oCCBJmkg1IXg",
        "colab_type": "code",
        "colab": {
          "base_uri": "https://localhost:8080/",
          "height": 615
        },
        "outputId": "8cb48472-f3a8-4f2a-b4ba-a47e0fd88bb0"
      },
      "source": [
        "# Plot the loss and accuracy curves for training and validation \n",
        "fig, ax = plt.subplots(2,1,figsize=(13,10))\n",
        "ax[0].plot(history.history['loss'], color='b', label=\"Training loss\")\n",
        "ax[0].plot(history.history['val_loss'], color='r', label=\"validation loss\",axes =ax[0])\n",
        "legend = ax[0].legend(loc='best', fontsize=20, shadow=True)\n",
        "\n",
        "ax[1].plot(history.history['acc'], color='b', label=\"Training accuracy\")\n",
        "ax[1].plot(history.history['val_acc'], color='r',label=\"Validation accuracy\")\n",
        "legend = ax[1].legend(loc='best', fontsize=20,shadow=True)"
      ],
      "execution_count": 18,
      "outputs": [
        {
          "output_type": "display_data",
          "data": {
            "image/png": "[encoded data removed]",
            "text/plain": [
              "<Figure size 936x720 with 2 Axes>"
            ]
          },
          "metadata": {
            "tags": []
          }
        }
      ]
    },
    {
      "cell_type": "markdown",
      "metadata": {
        "id": "LORHV9Z41IXl",
        "colab_type": "text"
      },
      "source": [
        "***\n",
        "A couple things to note about these plots. First, the accuracy in the validation set is always higher than that of the training set which means we didn't over fit. And second, the validation loss is always less than that of the training set which also indicates a good fit.\n",
        "***"
      ]
    },
    {
      "cell_type": "markdown",
      "metadata": {
        "id": "fHvTYVVr1IXl",
        "colab_type": "text"
      },
      "source": [
        "### 4.2 Confusion Matrix"
      ]
    },
    {
      "cell_type": "markdown",
      "metadata": {
        "id": "FDhkwu2n1IXm",
        "colab_type": "text"
      },
      "source": [
        "***\n",
        "We can also check our errors in a different way using a Confusion Matrix. What this tells us is how often a predicted label was actually a different label. For a good fit we expect the predicated and actual label to be the same.\n",
        "***"
      ]
    },
    {
      "cell_type": "code",
      "metadata": {
        "id": "RQZMzjuC1IXm",
        "colab_type": "code",
        "colab": {
          "base_uri": "https://localhost:8080/",
          "height": 768
        },
        "outputId": "d40ce486-4d93-458d-9f26-2291850255a5"
      },
      "source": [
        "# Look at confusion matrix \n",
        "\n",
        "def plot_confusion_matrix(cm, classes,normalize=False,title='Confusion matrix',cmap=plt.cm.Blues):\n",
        "    \"\"\"\n",
        "    This function prints and plots the confusion matrix.\n",
        "    Normalization can be applied by setting `normalize=True`.\n",
        "    \"\"\"\n",
        "    plt.figure(figsize=(13,10))\n",
        "    plt.imshow(cm, interpolation='nearest', cmap=cmap)\n",
        "    plt.title(title)\n",
        "    plt.colorbar()\n",
        "    tick_marks = np.arange(len(classes))\n",
        "    plt.xticks(tick_marks, classes, fontsize=15, rotation=45)\n",
        "    plt.yticks(tick_marks, classes, fontsize=15)\n",
        "\n",
        "    if normalize:\n",
        "        cm = cm.astype('float') / cm.sum(axis=1)[:, np.newaxis]\n",
        "\n",
        "    thresh = cm.max() / 2.\n",
        "    for i, j in itertools.product(range(cm.shape[0]), range(cm.shape[1])):\n",
        "        plt.text(j, i, cm[i, j],\n",
        "                 horizontalalignment=\"center\",\n",
        "                 color=\"white\" if cm[i, j] > thresh else \"black\",\n",
        "                fontsize=15)\n",
        "\n",
        "    plt.tight_layout()\n",
        "    plt.ylabel('True label',fontsize=15)\n",
        "    plt.xlabel('Predicted label',fontsize=15)\n",
        "\n",
        "# Predict the values from the validation dataset\n",
        "Y_pred = model.predict(X_valid)\n",
        "\n",
        "# Convert predictions classes to one hot vectors \n",
        "Y_pred_classes = np.argmax(Y_pred,axis = 1) \n",
        "\n",
        "# Convert validation observations to one hot vectors\n",
        "Y_true = np.argmax(Y_valid,axis = 1) \n",
        "\n",
        "# compute the confusion matrix\n",
        "confusion_mtx = confusion_matrix(Y_true, Y_pred_classes)\n",
        "\n",
        "# plot the confusion matrix\n",
        "plot_confusion_matrix(confusion_mtx, classes = range(10)) "
      ],
      "execution_count": 19,
      "outputs": [
        {
          "output_type": "display_data",
          "data": {
            "image/png": "[encoded data removed]",
            "text/plain": [
              "<Figure size 936x720 with 2 Axes>"
            ]
          },
          "metadata": {
            "tags": []
          }
        }
      ]
    },
    {
      "cell_type": "markdown",
      "metadata": {
        "id": "ewiGcB1F1IXp",
        "colab_type": "text"
      },
      "source": [
        "***\n",
        "Our model worked pretty well except with some errors getting 2's and 7's mixed up as well as 4's and 9's. However, humans also make the same errors when trying to read other's handwriting so we can't expect a machine to get it right 100% of the time either.\n",
        "***"
      ]
    },
    {
      "cell_type": "markdown",
      "metadata": {
        "id": "_hbvkaLa1IXp",
        "colab_type": "text"
      },
      "source": [
        "### 4.3 Exploring errors"
      ]
    },
    {
      "cell_type": "markdown",
      "metadata": {
        "id": "pAhLxLIU1IXq",
        "colab_type": "text"
      },
      "source": [
        "***\n",
        "The code below shows the top 6 errors the computer made in classifying numbers, getting them confused with others.\n",
        "***"
      ]
    },
    {
      "cell_type": "code",
      "metadata": {
        "id": "_xpn_HZ31IXq",
        "colab_type": "code",
        "colab": {
          "base_uri": "https://localhost:8080/",
          "height": 609
        },
        "outputId": "de62b85c-7cf1-4274-d140-f356c12c6921"
      },
      "source": [
        "# Display some error results \n",
        "\n",
        "# Errors are difference between predicted labels and true labels\n",
        "errors = (Y_pred_classes - Y_true != 0)\n",
        "\n",
        "Y_pred_classes_errors = Y_pred_classes[errors]\n",
        "Y_pred_errors = Y_pred[errors]\n",
        "Y_true_errors = Y_true[errors]\n",
        "X_val_errors = X_valid[errors]\n",
        "\n",
        "def display_errors(errors_index,img_errors,pred_errors, obs_errors):\n",
        "    \"\"\" This function shows 6 images with their predicted and real labels\"\"\"\n",
        "    n = 0\n",
        "    nrows = 2\n",
        "    ncols = 3\n",
        "    fig, ax = plt.subplots(nrows,ncols,sharex=True,sharey=True,figsize=(13,10))\n",
        "    for row in range(nrows):\n",
        "        for col in range(ncols):\n",
        "            error = errors_index[n]\n",
        "            ax[row,col].imshow((img_errors[error]).reshape((28,28)),cmap='Greys')\n",
        "            ax[row,col].set_title(\"Predicted label :{}\\nTrue label :{}\".format(pred_errors[error],obs_errors[error]))\n",
        "            n += 1\n",
        "\n",
        "# Probabilities of the wrong predicted numbers\n",
        "Y_pred_errors_prob = np.max(Y_pred_errors,axis = 1)\n",
        "\n",
        "# Predicted probabilities of the true values in the error set\n",
        "true_prob_errors = np.diagonal(np.take(Y_pred_errors, Y_true_errors, axis=1))\n",
        "\n",
        "# Difference between the probability of the predicted label and the true label\n",
        "delta_pred_true_errors = Y_pred_errors_prob - true_prob_errors\n",
        "\n",
        "# Sorted list of the delta prob errors\n",
        "sorted_dela_errors = np.argsort(delta_pred_true_errors)\n",
        "\n",
        "# Top 6 errors \n",
        "most_important_errors = sorted_dela_errors[-6:]\n",
        "\n",
        "# Show the top 6 errors\n",
        "display_errors(most_important_errors, X_val_errors, Y_pred_classes_errors, Y_true_errors)"
      ],
      "execution_count": 20,
      "outputs": [
        {
          "output_type": "display_data",
          "data": {
            "image/png": "[encoded data removed]",
            "text/plain": [
              "<Figure size 936x720 with 6 Axes>"
            ]
          },
          "metadata": {
            "tags": []
          }
        }
      ]
    },
    {
      "cell_type": "markdown",
      "metadata": {
        "id": "BGDx5MZK1IXs",
        "colab_type": "text"
      },
      "source": [
        "## 5. Output"
      ]
    },
    {
      "cell_type": "markdown",
      "metadata": {
        "id": "c_DlFH1W1IXs",
        "colab_type": "text"
      },
      "source": [
        "***\n",
        "Finally all that is left is to output the csv file for scoring.\n",
        "***"
      ]
    },
    {
      "cell_type": "code",
      "metadata": {
        "id": "yEnGt9Ni1IXt",
        "colab_type": "code",
        "colab": {}
      },
      "source": [
        "# predict results\n",
        "results = model.predict(test)\n",
        "\n",
        "# select the indix with the maximum probability\n",
        "results = np.argmax(results,axis = 1)\n",
        "\n",
        "results = pd.Series(results,name=\"Label\")"
      ],
      "execution_count": 0,
      "outputs": []
    },
    {
      "cell_type": "code",
      "metadata": {
        "id": "Ub-2aCiZ1IXu",
        "colab_type": "code",
        "colab": {}
      },
      "source": [
        "submission = pd.concat([pd.Series(range(1,28001),name = \"ImageId\"),results],axis = 1)\n",
        "\n",
        "submission.to_csv(\"arcsinh_mnist.csv\",index=False)"
      ],
      "execution_count": 0,
      "outputs": []
    },
    {
      "cell_type": "code",
      "metadata": {
        "id": "7r4fd3U1UV0J",
        "colab_type": "code",
        "colab": {}
      },
      "source": [
        "from google.colab import files\n",
        "files.download(\"arcsinh_mnist.csv\")"
      ],
      "execution_count": 0,
      "outputs": []
    },
    {
      "cell_type": "markdown",
      "metadata": {
        "id": "FqLlpeTF1IXw",
        "colab_type": "text"
      },
      "source": [
        "***\n",
        "And we are done.\n",
        "***"
      ]
    }
  ]
}