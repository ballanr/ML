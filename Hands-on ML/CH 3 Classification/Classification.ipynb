{
 "cells": [
  {
   "cell_type": "markdown",
   "id": "7dfdc0e7",
   "metadata": {},
   "source": [
    "<div class=\"alert alert-block alert-danger\">\n",
    "<b>\n",
    "Note:\n",
    "</b> \n",
    "Work in progress!\n",
    "</div>\n"
   ]
  },
  {
   "cell_type": "markdown",
   "id": "4b59db97",
   "metadata": {},
   "source": [
    "<div class=\"alert alert-block alert-info\">\n",
    "<b>\n",
    "Note:\n",
    "</b> \n",
    "Following along with the book but condensing and making my own changes.\n",
    "</div>\n"
   ]
  },
  {
   "cell_type": "markdown",
   "id": "c51b486a",
   "metadata": {},
   "source": [
    "# MNIST"
   ]
  },
  {
   "cell_type": "code",
   "execution_count": null,
   "id": "9ae8718b",
   "metadata": {},
   "outputs": [],
   "source": [
    "import sklearn\n",
    "import random\n",
    "import matplotlib.pyplot as plt\n",
    "import numpy as np\n",
    "import pandas as pd\n",
    "from sklearn.datasets import fetch_openml"
   ]
  },
  {
   "cell_type": "code",
   "execution_count": null,
   "id": "18539428",
   "metadata": {},
   "outputs": [],
   "source": [
    "# Get the MNIST dataset and set as_frame to False to not return a dataframe\n",
    "mnist = fetch_openml('mnist_784', version = 1, as_frame = False)"
   ]
  },
  {
   "cell_type": "code",
   "execution_count": null,
   "id": "ec6b59aa",
   "metadata": {},
   "outputs": [],
   "source": [
    "# Separate our data from the target value\n",
    "x, y = mnist['data'], mnist['target']"
   ]
  },
  {
   "cell_type": "code",
   "execution_count": null,
   "id": "c794cb1e",
   "metadata": {},
   "outputs": [],
   "source": [
    "# Check the shape of the data\n",
    "X.shape, y.shape"
   ]
  },
  {
   "cell_type": "code",
   "execution_count": null,
   "id": "7b442968",
   "metadata": {},
   "outputs": [],
   "source": [
    "# Change the data types to reduce memory usage\n",
    "x = x.astype('uint8')\n",
    "y = y.astype('uint8')"
   ]
  },
  {
   "cell_type": "code",
   "execution_count": null,
   "id": "d9693424",
   "metadata": {},
   "outputs": [],
   "source": [
    "# Plot the first image in the dataset\n",
    "plt.imshow(X[0].reshape(28,28), cmap = 'binary')\n",
    "plt.axis('off')\n",
    "plt.show()"
   ]
  },
  {
   "cell_type": "code",
   "execution_count": null,
   "id": "a8ddf2a4",
   "metadata": {},
   "outputs": [],
   "source": [
    "# Plot 100 random images from the dataset\n",
    "rand = random.sample(range(0, 70000), 100)\n",
    "\n",
    "imgs = [X[k].reshape(28,28) for k in rand]\n",
    "\n",
    "plt.figure(figsize = (9,6))\n",
    "image = np.concatenate([np.concatenate(imgs[k*10:(k+1)*10], axis = 1) for k in range(10)], axis=0)\n",
    "plt.imshow(image, cmap = 'binary')\n",
    "plt.axis(\"off\")"
   ]
  },
  {
   "cell_type": "code",
   "execution_count": null,
   "id": "c3453cc9",
   "metadata": {},
   "outputs": [],
   "source": [
    "# Split into training and test datasets\n",
    "threshold = 60000\n",
    "x_train, x_test, y_train, y_test = x[:threshold], x[threshold:], y[:threshold], y[threshold:]"
   ]
  },
  {
   "cell_type": "markdown",
   "id": "feb0b941",
   "metadata": {},
   "source": [
    "## Binary classifiers"
   ]
  },
  {
   "cell_type": "code",
   "execution_count": null,
   "id": "79a309a7",
   "metadata": {},
   "outputs": [],
   "source": [
    "from sklearn.linear_model import SGDClassifier"
   ]
  },
  {
   "cell_type": "code",
   "execution_count": null,
   "id": "512c4eae",
   "metadata": {},
   "outputs": [],
   "source": [
    "y_train_5, y_test_5 = (y_train == 5), (y_test == 5)"
   ]
  },
  {
   "cell_type": "code",
   "execution_count": null,
   "id": "59102302",
   "metadata": {},
   "outputs": [],
   "source": [
    "sgd = SGDClassifier(random_state = 42)\n",
    "sgd.fit(x_train, y_train_5)"
   ]
  },
  {
   "cell_type": "code",
   "execution_count": null,
   "id": "8862949b",
   "metadata": {},
   "outputs": [],
   "source": [
    "rand = random.sample(range(0,70000), 1)\n",
    "sgd.predict(x_train[rand])"
   ]
  },
  {
   "cell_type": "code",
   "execution_count": null,
   "id": "4888bc63",
   "metadata": {},
   "outputs": [],
   "source": [
    "plt.imshow(x_train[rand].reshape(28,28), cmap = 'binary')\n",
    "plt.axis('off')\n",
    "plt.show()"
   ]
  },
  {
   "cell_type": "code",
   "execution_count": null,
   "id": "f3b788c2",
   "metadata": {},
   "outputs": [],
   "source": [
    "from sklearn.model_selection import cross_val_score"
   ]
  },
  {
   "cell_type": "code",
   "execution_count": null,
   "id": "c7ae452d",
   "metadata": {},
   "outputs": [],
   "source": [
    "cross_val_score(sgd, x_train, y_train_5, cv = 3, scoring = 'accuracy')"
   ]
  },
  {
   "cell_type": "code",
   "execution_count": null,
   "id": "1555acc4",
   "metadata": {},
   "outputs": [],
   "source": [
    "from sklearn.model_selection import cross_val_predict\n",
    "from sklearn.metrics import confusion_matrix, precision_score, recall_score, f1_score"
   ]
  },
  {
   "cell_type": "code",
   "execution_count": null,
   "id": "0eb39fc6",
   "metadata": {},
   "outputs": [],
   "source": [
    "y_train_pred = cross_val_predict(sgd, x_train, y_train_5, cv = 3)"
   ]
  },
  {
   "cell_type": "code",
   "execution_count": null,
   "id": "e609ec88",
   "metadata": {},
   "outputs": [],
   "source": [
    "confusion_matrix(y_train_5, y_train_pred)"
   ]
  },
  {
   "cell_type": "code",
   "execution_count": null,
   "id": "58de7bcb",
   "metadata": {},
   "outputs": [],
   "source": [
    "precision_score(y_train_5, y_train_pred)"
   ]
  },
  {
   "cell_type": "code",
   "execution_count": null,
   "id": "057346f1",
   "metadata": {},
   "outputs": [],
   "source": [
    "recall_score(y_train_5, y_train_pred)"
   ]
  },
  {
   "cell_type": "code",
   "execution_count": null,
   "id": "32eccd4a",
   "metadata": {},
   "outputs": [],
   "source": [
    "f1_score(y_train_5, y_train_pred)"
   ]
  },
  {
   "cell_type": "code",
   "execution_count": null,
   "id": "2553884c",
   "metadata": {},
   "outputs": [],
   "source": []
  }
 ],
 "metadata": {
  "kernelspec": {
   "display_name": "Python 3 (ipykernel)",
   "language": "python",
   "name": "python3"
  },
  "language_info": {
   "codemirror_mode": {
    "name": "ipython",
    "version": 3
   },
   "file_extension": ".py",
   "mimetype": "text/x-python",
   "name": "python",
   "nbconvert_exporter": "python",
   "pygments_lexer": "ipython3",
   "version": "3.9.0"
  }
 },
 "nbformat": 4,
 "nbformat_minor": 5
}
